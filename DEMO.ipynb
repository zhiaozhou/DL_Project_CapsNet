{
 "cells": [
  {
   "cell_type": "code",
   "execution_count": 11,
   "metadata": {
    "ExecuteTime": {
     "end_time": "2018-04-30T18:48:26.913680Z",
     "start_time": "2018-04-30T18:48:26.873613Z"
    }
   },
   "outputs": [
    {
     "name": "stdout",
     "output_type": "stream",
     "text": [
      "Populating the interactive namespace from numpy and matplotlib\n"
     ]
    }
   ],
   "source": [
    "import tensorflow as tf\n",
    "from tensorflow.examples.tutorials.mnist import input_data\n",
    "import numpy as np\n",
    "import matplotlib.pyplot as plt\n",
    "%pylab inline\n",
    "import seaborn as sns\n",
    "sns.set_style(\"darkgrid\")\n",
    "import glob\n",
    "from PIL import Image\n",
    "import cv2"
   ]
  },
  {
   "cell_type": "code",
   "execution_count": 12,
   "metadata": {
    "ExecuteTime": {
     "end_time": "2018-04-30T18:49:37.288053Z",
     "start_time": "2018-04-30T18:49:37.285215Z"
    }
   },
   "outputs": [],
   "source": [
    "filename = 'dog.png'"
   ]
  },
  {
   "cell_type": "code",
   "execution_count": 13,
   "metadata": {
    "ExecuteTime": {
     "end_time": "2018-04-30T18:49:55.248714Z",
     "start_time": "2018-04-30T18:49:55.227504Z"
    }
   },
   "outputs": [],
   "source": [
    "image=cv2.imread(filename)\n",
    "res=cv2.resize(image,(28,28),interpolation=cv2.INTER_CUBIC)"
   ]
  },
  {
   "cell_type": "code",
   "execution_count": 14,
   "metadata": {
    "ExecuteTime": {
     "end_time": "2018-04-30T18:50:09.179122Z",
     "start_time": "2018-04-30T18:50:09.174407Z"
    }
   },
   "outputs": [
    {
     "data": {
      "text/plain": [
       "True"
      ]
     },
     "execution_count": 14,
     "metadata": {},
     "output_type": "execute_result"
    }
   ],
   "source": [
    "cv2.imwrite(filename, res)"
   ]
  },
  {
   "cell_type": "code",
   "execution_count": 25,
   "metadata": {
    "ExecuteTime": {
     "end_time": "2018-04-30T03:19:47.406561Z",
     "start_time": "2018-04-30T03:19:47.341665Z"
    }
   },
   "outputs": [],
   "source": [
    "tensors = [n.name for n in tf.get_default_graph().as_graph_def().node]"
   ]
  },
  {
   "cell_type": "code",
   "execution_count": 16,
   "metadata": {
    "ExecuteTime": {
     "end_time": "2018-04-30T18:50:25.924989Z",
     "start_time": "2018-04-30T18:50:25.922780Z"
    }
   },
   "outputs": [],
   "source": [
    "graph = tf.get_default_graph()"
   ]
  },
  {
   "cell_type": "code",
   "execution_count": 15,
   "metadata": {
    "ExecuteTime": {
     "end_time": "2018-04-30T18:50:25.790039Z",
     "start_time": "2018-04-30T18:50:23.819999Z"
    }
   },
   "outputs": [
    {
     "name": "stdout",
     "output_type": "stream",
     "text": [
      "INFO:tensorflow:Restoring parameters from ./checkpoint_CapsNet/MyModel\n"
     ]
    }
   ],
   "source": [
    "sess = tf.Session()\n",
    "saver = tf.train.import_meta_graph(glob.glob('checkpoint_CapsNet/*.meta')[0])\n",
    "saver.restore(sess, tf.train.latest_checkpoint('./checkpoint_CapsNet/'))"
   ]
  },
  {
   "cell_type": "code",
   "execution_count": 17,
   "metadata": {
    "ExecuteTime": {
     "end_time": "2018-04-30T18:50:28.195937Z",
     "start_time": "2018-04-30T18:50:28.192545Z"
    }
   },
   "outputs": [],
   "source": [
    "y_pred = graph.get_tensor_by_name('pow_13:0')\n",
    "x = graph.get_tensor_by_name('Placeholder:0')\n",
    "on_train = graph.get_tensor_by_name('Placeholder_2:0')"
   ]
  },
  {
   "cell_type": "code",
   "execution_count": 21,
   "metadata": {
    "ExecuteTime": {
     "end_time": "2018-04-30T18:50:52.677042Z",
     "start_time": "2018-04-30T18:50:52.673278Z"
    }
   },
   "outputs": [],
   "source": [
    "pixels = np.asarray(Image.open('dog.png'))"
   ]
  },
  {
   "cell_type": "code",
   "execution_count": 25,
   "metadata": {
    "ExecuteTime": {
     "end_time": "2018-04-30T18:51:24.189450Z",
     "start_time": "2018-04-30T18:51:24.185852Z"
    }
   },
   "outputs": [],
   "source": [
    "if pixels.shape[-1] >= 3:\n",
    "    feed_dict = {x:pixels[:,:,:3].reshape(-1,28,28,3)/255.,on_train:False}\n",
    "else:\n",
    "    pixels = np.array([pixels[:,:,0]]*3)\n",
    "    feed_dict = feed_dict = {x:pixels[:,:,:].reshape(-1,28,28,3)/255.,on_train:False}"
   ]
  },
  {
   "cell_type": "code",
   "execution_count": 26,
   "metadata": {
    "ExecuteTime": {
     "end_time": "2018-04-30T18:51:27.884343Z",
     "start_time": "2018-04-30T18:51:27.099464Z"
    }
   },
   "outputs": [],
   "source": [
    "pred = sess.run(y_pred,feed_dict)"
   ]
  },
  {
   "cell_type": "code",
   "execution_count": 29,
   "metadata": {
    "ExecuteTime": {
     "end_time": "2018-04-30T03:19:55.149473Z",
     "start_time": "2018-04-30T03:19:55.145486Z"
    }
   },
   "outputs": [],
   "source": [
    "predictions = list(np.argsort(pred, axis=-1, kind='quicksort', order=None)[-2:])"
   ]
  },
  {
   "cell_type": "code",
   "execution_count": 28,
   "metadata": {
    "ExecuteTime": {
     "end_time": "2018-04-30T03:57:44.141227Z",
     "start_time": "2018-04-30T03:57:44.138122Z"
    }
   },
   "outputs": [],
   "source": [
    "top_names = list(sorted(pred,reverse=True)[:5])"
   ]
  },
  {
   "cell_type": "code",
   "execution_count": 29,
   "metadata": {
    "ExecuteTime": {
     "end_time": "2018-04-30T03:57:44.310756Z",
     "start_time": "2018-04-30T03:57:44.307799Z"
    }
   },
   "outputs": [],
   "source": [
    "top_k = list(np.argsort(pred, axis=-1, kind='quicksort', order=None)[::-1][:5])"
   ]
  },
  {
   "cell_type": "code",
   "execution_count": 33,
   "metadata": {
    "ExecuteTime": {
     "end_time": "2018-04-30T03:58:11.929442Z",
     "start_time": "2018-04-30T03:58:11.925322Z"
    }
   },
   "outputs": [
    {
     "data": {
      "text/plain": [
       "{6: 0.86182743, 3: 0.63528156, 5: 0.11548051, 0: 0.112005144, 1: 0.10085601}"
      ]
     },
     "execution_count": 33,
     "metadata": {},
     "output_type": "execute_result"
    }
   ],
   "source": [
    "dict(zip(top_k,top_names))"
   ]
  },
  {
   "cell_type": "code",
   "execution_count": 34,
   "metadata": {
    "ExecuteTime": {
     "end_time": "2018-04-30T03:58:12.400376Z",
     "start_time": "2018-04-30T03:58:12.396937Z"
    }
   },
   "outputs": [
    {
     "name": "stdout",
     "output_type": "stream",
     "text": [
      "6\n",
      "3\n",
      "5\n",
      "0\n",
      "1\n"
     ]
    }
   ],
   "source": [
    "for node_id, human_name in zip(top_k, top_names):\n",
    "    print(node_id)"
   ]
  },
  {
   "cell_type": "code",
   "execution_count": null,
   "metadata": {},
   "outputs": [],
   "source": []
  },
  {
   "cell_type": "code",
   "execution_count": 34,
   "metadata": {
    "ExecuteTime": {
     "end_time": "2018-04-30T03:20:45.716343Z",
     "start_time": "2018-04-30T03:20:45.711397Z"
    }
   },
   "outputs": [
    {
     "name": "stdout",
     "output_type": "stream",
     "text": [
      "0.86182743 6\n",
      "0.63528156 3\n",
      "0.11548051 5\n",
      "0.112005144 0\n",
      "0.10085601 1\n"
     ]
    }
   ],
   "source": [
    "for node_id, human_name in zip(top_k, top_names):  \n",
    "    print(node_id,human_name)\n",
    "    \n",
    "    "
   ]
  },
  {
   "cell_type": "code",
   "execution_count": null,
   "metadata": {
    "ExecuteTime": {
     "start_time": "2018-04-30T03:09:47.665Z"
    }
   },
   "outputs": [],
   "source": [
    "import os  \n",
    "import sys\n",
    "import importlib\n",
    "import time  \n",
    "from flask import request, send_from_directory  \n",
    "from flask import Flask, request, redirect, url_for  \n",
    "import uuid  \n",
    "import tensorflow as tf  \n",
    "from classify_image import run_inference_on_image  "
   ]
  },
  {
   "cell_type": "code",
   "execution_count": 1,
   "metadata": {
    "ExecuteTime": {
     "end_time": "2018-04-30T03:12:27.681333Z",
     "start_time": "2018-04-30T03:12:26.527862Z"
    }
   },
   "outputs": [
    {
     "name": "stderr",
     "output_type": "stream",
     "text": [
      "/home/paperspace/anaconda3/envs/fastai/lib/python3.6/site-packages/h5py/__init__.py:36: FutureWarning: Conversion of the second argument of issubdtype from `float` to `np.floating` is deprecated. In future, it will be treated as `np.float64 == np.dtype(float).type`.\n",
      "  from ._conv import register_converters as _register_converters\n"
     ]
    }
   ],
   "source": [
    "import os  \n",
    "import sys\n",
    "import importlib\n",
    "import time  \n",
    "from flask import request, send_from_directory  \n",
    "from flask import Flask, request, redirect, url_for  \n",
    "import uuid  \n",
    "import tensorflow as tf  \n",
    "from classify_image import run_inference_on_image  "
   ]
  },
  {
   "cell_type": "code",
   "execution_count": 3,
   "metadata": {
    "ExecuteTime": {
     "end_time": "2018-04-30T03:13:20.724331Z",
     "start_time": "2018-04-30T03:13:20.720837Z"
    }
   },
   "outputs": [],
   "source": [
    "filename = 'demo.jpg'"
   ]
  },
  {
   "cell_type": "code",
   "execution_count": 7,
   "metadata": {
    "ExecuteTime": {
     "end_time": "2018-04-30T03:13:45.357649Z",
     "start_time": "2018-04-30T03:13:45.353679Z"
    }
   },
   "outputs": [],
   "source": [
    "ALLOWED_EXTENSIONS = set(['jpg','JPG', 'jpeg', 'JPEG', 'png'])  "
   ]
  },
  {
   "cell_type": "code",
   "execution_count": 8,
   "metadata": {
    "ExecuteTime": {
     "end_time": "2018-04-30T03:13:45.765273Z",
     "start_time": "2018-04-30T03:13:45.762196Z"
    }
   },
   "outputs": [],
   "source": [
    "def allowed_files(filename):  \n",
    "  return ('.' in filename) and (filename.rsplit('.', 1)[1] in ALLOWED_EXTENSIONS)  "
   ]
  },
  {
   "cell_type": "code",
   "execution_count": 9,
   "metadata": {
    "ExecuteTime": {
     "end_time": "2018-04-30T03:13:46.161590Z",
     "start_time": "2018-04-30T03:13:46.152308Z"
    }
   },
   "outputs": [
    {
     "data": {
      "text/plain": [
       "True"
      ]
     },
     "execution_count": 9,
     "metadata": {},
     "output_type": "execute_result"
    }
   ],
   "source": [
    "allowed_files(filename)"
   ]
  },
  {
   "cell_type": "code",
   "execution_count": 10,
   "metadata": {
    "ExecuteTime": {
     "end_time": "2018-04-30T03:14:00.926574Z",
     "start_time": "2018-04-30T03:14:00.922408Z"
    }
   },
   "outputs": [],
   "source": [
    "def rename_filename(old_file_name):  \n",
    "  basename = os.path.basename(old_file_name)  \n",
    "  name, ext = os.path.splitext(basename)  \n",
    "  new_name = str(uuid.uuid1()) + ext  \n",
    "  return new_name  "
   ]
  },
  {
   "cell_type": "code",
   "execution_count": 12,
   "metadata": {
    "ExecuteTime": {
     "end_time": "2018-04-30T03:14:28.353372Z",
     "start_time": "2018-04-30T03:14:28.349854Z"
    }
   },
   "outputs": [],
   "source": [
    "filename = rename_filename(filename)"
   ]
  },
  {
   "cell_type": "code",
   "execution_count": 13,
   "metadata": {
    "ExecuteTime": {
     "end_time": "2018-04-30T03:14:46.152470Z",
     "start_time": "2018-04-30T03:14:46.148698Z"
    }
   },
   "outputs": [],
   "source": [
    "UPLOAD_FOLDER = '/tmp/'"
   ]
  },
  {
   "cell_type": "code",
   "execution_count": 14,
   "metadata": {
    "ExecuteTime": {
     "end_time": "2018-04-30T03:14:47.166471Z",
     "start_time": "2018-04-30T03:14:47.162706Z"
    }
   },
   "outputs": [],
   "source": [
    "file_path = os.path.join(UPLOAD_FOLDER, filename) "
   ]
  },
  {
   "cell_type": "code",
   "execution_count": 15,
   "metadata": {
    "ExecuteTime": {
     "end_time": "2018-04-30T03:14:50.099723Z",
     "start_time": "2018-04-30T03:14:50.095096Z"
    }
   },
   "outputs": [
    {
     "data": {
      "text/plain": [
       "'/tmp/97c3a05e-4c24-11e8-a576-0ace1b4a3c58.jpg'"
      ]
     },
     "execution_count": 15,
     "metadata": {},
     "output_type": "execute_result"
    }
   ],
   "source": [
    "file.save(file_path)  "
   ]
  }
 ],
 "metadata": {
  "kernelspec": {
   "display_name": "Python 3",
   "language": "python",
   "name": "python3"
  },
  "language_info": {
   "codemirror_mode": {
    "name": "ipython",
    "version": 3
   },
   "file_extension": ".py",
   "mimetype": "text/x-python",
   "name": "python",
   "nbconvert_exporter": "python",
   "pygments_lexer": "ipython3",
   "version": "3.6.5"
  },
  "latex_envs": {
   "LaTeX_envs_menu_present": true,
   "autoclose": false,
   "autocomplete": true,
   "bibliofile": "biblio.bib",
   "cite_by": "apalike",
   "current_citInitial": 1,
   "eqLabelWithNumbers": true,
   "eqNumInitial": 1,
   "hotkeys": {
    "equation": "Ctrl-E",
    "itemize": "Ctrl-I"
   },
   "labels_anchors": false,
   "latex_user_defs": false,
   "report_style_numbering": false,
   "user_envs_cfg": false
  },
  "toc": {
   "nav_menu": {},
   "number_sections": true,
   "sideBar": true,
   "skip_h1_title": false,
   "toc_cell": false,
   "toc_position": {},
   "toc_section_display": "block",
   "toc_window_display": false
  },
  "varInspector": {
   "cols": {
    "lenName": 16,
    "lenType": 16,
    "lenVar": 40
   },
   "kernels_config": {
    "python": {
     "delete_cmd_postfix": "",
     "delete_cmd_prefix": "del ",
     "library": "var_list.py",
     "varRefreshCmd": "print(var_dic_list())"
    },
    "r": {
     "delete_cmd_postfix": ") ",
     "delete_cmd_prefix": "rm(",
     "library": "var_list.r",
     "varRefreshCmd": "cat(var_dic_list()) "
    }
   },
   "types_to_exclude": [
    "module",
    "function",
    "builtin_function_or_method",
    "instance",
    "_Feature"
   ],
   "window_display": true
  }
 },
 "nbformat": 4,
 "nbformat_minor": 2
}
