{
 "cells": [
  {
   "cell_type": "code",
   "execution_count": 1,
   "metadata": {
    "ExecuteTime": {
     "end_time": "2018-04-30T00:22:24.605960Z",
     "start_time": "2018-04-30T00:22:22.747270Z"
    }
   },
   "outputs": [
    {
     "name": "stderr",
     "output_type": "stream",
     "text": [
      "/home/paperspace/anaconda3/envs/fastai/lib/python3.6/site-packages/h5py/__init__.py:36: FutureWarning: Conversion of the second argument of issubdtype from `float` to `np.floating` is deprecated. In future, it will be treated as `np.float64 == np.dtype(float).type`.\n",
      "  from ._conv import register_converters as _register_converters\n"
     ]
    },
    {
     "name": "stdout",
     "output_type": "stream",
     "text": [
      "Populating the interactive namespace from numpy and matplotlib\n"
     ]
    }
   ],
   "source": [
    "import tensorflow as tf\n",
    "from tensorflow.examples.tutorials.mnist import input_data\n",
    "import numpy as np\n",
    "import matplotlib.pyplot as plt\n",
    "%pylab inline\n",
    "import seaborn as sns\n",
    "sns.set_style(\"darkgrid\")"
   ]
  },
  {
   "cell_type": "code",
   "execution_count": 2,
   "metadata": {
    "ExecuteTime": {
     "end_time": "2018-04-30T00:22:24.875130Z",
     "start_time": "2018-04-30T00:22:24.863888Z"
    }
   },
   "outputs": [],
   "source": [
    "# augment the images\n",
    "def augmentation(x, max_offset=2):\n",
    "    bz, h, w, c = x.shape\n",
    "    bg = np.zeros([bz, w + 2 * max_offset, h + 2 * max_offset, c])\n",
    "    offsets = np.random.randint(0, 2 * max_offset + 1, 2)\n",
    "    #shift\n",
    "    bg[:, offsets[0]:offsets[0] + h, offsets[1]:offsets[1] + w, :] = x\n",
    "    return bg[:, max_offset:max_offset + h, max_offset:max_offset + w, :]\n",
    "\n",
    "#mini-batch for single digit training set\n",
    "def mnist_train_iter(iters=1000, batch_size=32, is_shift_ag=True):\n",
    "    mnist = input_data.read_data_sets('MNIST_data', one_hot=True)\n",
    "    max_offset = int(is_shift_ag) * 2\n",
    "    for i in range(iters):\n",
    "        batch = mnist.train.next_batch(batch_size)\n",
    "        images = batch[0].reshape([batch_size, 28, 28, 1])\n",
    "        images = np.concatenate([images] * 3, axis=-1)\n",
    "        yield augmentation(images, max_offset), np.stack(\n",
    "            [batch[1]] * 3, axis=-1)\n",
    "        # the output is a batch of train set, with 28*28*3 for each pic and 10*3 label for corresponding pic. Shift is possible.\n",
    "\n",
    "#mini-batch for single digit test set\n",
    "def mnist_test_iter(iters=1000, batch_size=32, is_shift_ag=False):\n",
    "    mnist = input_data.read_data_sets('MNIST_data', one_hot=True)\n",
    "    max_offset = int(is_shift_ag) * 2\n",
    "    for i in range(iters):\n",
    "        batch = mnist.test.next_batch(batch_size)\n",
    "        images = batch[0].reshape([batch_size, 28, 28, 1])\n",
    "        images = np.concatenate([images] * 3, axis=-1)\n",
    "        yield augmentation(images, max_offset), np.stack(\n",
    "            [batch[1]] * 3, axis=-1)\n",
    "        \n",
    "#mini-batch for overlapping digit training set\n",
    "def multimnist_train_iter(iters=1000, batch_size=32, is_shift_ag=True):\n",
    "    mnist = input_data.read_data_sets('MNIST_data', one_hot=True)\n",
    "    max_offset = int(is_shift_ag) * 2\n",
    "    for i in range(iters):\n",
    "        batch1 = mnist.train.next_batch(batch_size)\n",
    "        batch2 = mnist.train.next_batch(batch_size)\n",
    "        images1 = augmentation(batch1[0].reshape([batch_size, 28, 28, 1]),\n",
    "                               max_offset)\n",
    "        images2 = augmentation(batch2[0].reshape([batch_size, 28, 28, 1]),\n",
    "                               max_offset)\n",
    "        images = np.logical_or(images1, images2).astype(np.float32)\n",
    "        images = np.concatenate([images, images1, images2], axis=-1)\n",
    "        y1, y2 = batch1[1], batch2[1]\n",
    "        y0 = np.logical_or(y1, y2).astype(np.float32)\n",
    "        yield images, np.stack([y0, y1, y2], axis=-1)\n",
    "\n",
    "#mini-batch for overlapping digit test set\n",
    "def multimnist_test_iter(iters=1000, batch_size=32, is_shift_ag=True):\n",
    "    mnist = input_data.read_data_sets('MNIST_data', one_hot=True)\n",
    "    max_offset = int(is_shift_ag) * 2\n",
    "    for i in range(iters):\n",
    "        #two batch at one iter\n",
    "        batch1 = mnist.test.next_batch(batch_size)\n",
    "        batch2 = mnist.test.next_batch(batch_size)\n",
    "        images1 = augmentation(batch1[0].reshape([batch_size, 28, 28, 1]),\n",
    "                               max_offset)\n",
    "        images2 = augmentation(batch2[0].reshape([batch_size, 28, 28, 1]),\n",
    "                               max_offset)\n",
    "        #overlapping\n",
    "        images = np.logical_or(images1, images2).astype(np.float32)\n",
    "        images = np.concatenate([images, images1, images2], axis=-1)\n",
    "        y1, y2 = batch1[1], batch2[1]\n",
    "        y0 = np.logical_or(y1, y2).astype(np.float32)\n",
    "        yield images, np.stack([y0, y1, y2], axis=-1)\n",
    "        #size of result is 32*28*28*3, here data in same pos of pics with same index, will be put into one inner array\n",
    "        #sequence of shift and concatenate is reversible"
   ]
  },
  {
   "cell_type": "code",
   "execution_count": 13,
   "metadata": {
    "ExecuteTime": {
     "end_time": "2018-04-30T01:55:34.456431Z",
     "start_time": "2018-04-30T01:55:34.452125Z"
    }
   },
   "outputs": [
    {
     "data": {
      "text/plain": [
       "<tf.Tensor 'Placeholder_1:0' shape=(?, 10, 3) dtype=float32>"
      ]
     },
     "execution_count": 13,
     "metadata": {},
     "output_type": "execute_result"
    }
   ],
   "source": [
    "net."
   ]
  },
  {
   "cell_type": "code",
   "execution_count": 3,
   "metadata": {
    "ExecuteTime": {
     "end_time": "2018-04-30T00:22:25.053387Z",
     "start_time": "2018-04-30T00:22:25.021370Z"
    }
   },
   "outputs": [],
   "source": [
    "# A CapsNet class is initiated here to assemble the process of prediction and validation.\n",
    "# 1. The input is a batch of pics, we need to split the input into 3 different batches\n",
    "# 2. Use get_CapsNet function\n",
    "# 2.1 to reach the output layer, with two hidden layer\n",
    "# 2.2 use process of dynamic routing, do it in iteration, update the output vector\n",
    "# 3. Use get_mlp_decoder function\n",
    "# 3.1 for each predicted output and real label, use get_mlp_decoder to reconstruct the input pics\n",
    "# 4. Cal the difference between reconstructed pics and real pics. Use function to cal the loss and accuracy.\n",
    "# when we init a class, and input the batches, we could acquire the accuracy from class’s variables.\n",
    "\n",
    "class CapsNet(object):\n",
    "    def __init__(self,\n",
    "                 routing_iterations=3,\n",
    "                 caps=64,\n",
    "                 batch_size=128,\n",
    "                 is_multi_mnist=True,\n",
    "                 steps=5000,\n",
    "                 norm=True,\n",
    "                 lr_decay=True,\n",
    "                 lr_find=False):\n",
    "        \"\"\"\n",
    "        routing_iterations: iterations for routing in CapsNet\n",
    "        batch_size: data size for every batch\n",
    "        is_multi_mnist: if it's for single or overlapping image\n",
    "        steps: epochs \n",
    "        norm: if batch_normalization or not\n",
    "        \"\"\"\n",
    "        self.iterations = routing_iterations\n",
    "        self.batch_size = batch_size\n",
    "        \n",
    "        #Single or overlapping image\n",
    "        self.is_multi_mnist = float(is_multi_mnist)\n",
    "\n",
    "        self.x = tf.placeholder(tf.float32, [None, 28, 28, 3])\n",
    "        self.y = tf.placeholder(tf.float32, [None, 10, 3])\n",
    "        \n",
    "        if lr_find:\n",
    "            self.lr = tf.placeholder(tf.float32)\n",
    "        else:\n",
    "            #use a exponentially decayed learninig rate\n",
    "            global_step = tf.Variable(0)\n",
    "            if lr_decay:\n",
    "                lr = tf.train.exponential_decay(\n",
    "                    0.00075, global_step, steps / 10, 0.96, staircase=False)\n",
    "            else:\n",
    "                lr = 0.00075\n",
    "        self.norm = norm\n",
    "        self.on_train = tf.placeholder(tf.bool)\n",
    "        self.caps = caps\n",
    "\n",
    "        x_composed, x_a, x_b = tf.split(self.x, num_or_size_splits=3, axis=3)\n",
    "        y_composed, y_a, y_b = tf.split(self.y, num_or_size_splits=3, axis=2)\n",
    "    \n",
    "        #if not overlapping, mask = tf.ones_like(y_composed[:,0,0])\n",
    "        #if overlapping: mask = tf.reduce_sum(y_composed, axis=[1,2]) - 1.0\n",
    "        #for not overlapping: ones_like will generate the array of 1 the same size as input array. Here y_composed[:,0,0], each pic choose only 1 pos, therefore, it is a 1 dimension vector, the size equals batch_size.\n",
    "        #for overlapping: reduce_sum will sum all num in a range. Here, we choose [1, 2], which is all label for a particular pic. Therefore, reduce_sum here will sum label for each pic in the batch, will represent the num of digits in each pic.\n",
    "        valid_mask = self.is_multi_mnist * (tf.reduce_sum(y_composed, axis=[1,2]) - 1.0) \\\n",
    "                      + (1.0 - self.is_multi_mnist) * tf.ones_like(y_composed[:,0,0])\n",
    "        \n",
    "        #reg_term is the penalty term\n",
    "        zza,v_digit,reg_term = self.get_CapsNet(x_composed, self.norm, self.on_train,self.caps)\n",
    "\n",
    "        length_v = tf.reduce_sum(v_digit**2.0, axis=-1)**0.5\n",
    "        \n",
    "        self.y_pred = length_v\n",
    "        self.y_test = tf.argmax(tf.squeeze(self.y), 1)\n",
    "        self.y_a = y_a\n",
    "        self.zza = zza\n",
    "        \n",
    "        x_rec_a = self.get_mlp_decoder(v_digit * y_a,self.caps)\n",
    "        x_rec_b = self.get_mlp_decoder(v_digit * y_b,self.caps, reuse=True)\n",
    "        loss_rec_a = tf.reduce_sum((x_rec_a - x_a)**2.0, axis=[1, 2, 3])\n",
    "        loss_rec_b = tf.reduce_sum((x_rec_b - x_b)**2.0, axis=[1, 2, 3])\n",
    "        self.loss_rec = (loss_rec_a + loss_rec_b) / 2.0\n",
    "        \n",
    "        self.loss_cls = tf.reduce_sum(\n",
    "            y_composed[:, :, 0] * tf.maximum(0.0, 0.9 - length_v)**2.0 + 0.5 *\n",
    "            (1.0 - y_composed[:, :, 0]) * tf.maximum(0.0, length_v - 0.1)**2.0,\n",
    "            axis=-1)\n",
    "        self.loss_cls = tf.reduce_sum(\n",
    "            self.loss_cls * valid_mask) / tf.reduce_sum(valid_mask)\n",
    "        #loss_cls: batch_size, valid_mask: _batch_size\n",
    "        #sum1: loss for all pics in the batch\n",
    "        #sum2: num of digits for all pics in the batch\n",
    "        #cal the loss percentage considering y_composed (real label)\n",
    "        \n",
    "        self.loss_rec = tf.reduce_sum(\n",
    "            self.loss_rec * valid_mask) / tf.reduce_sum(valid_mask)\n",
    "        #loss_rec: batch_size, valid_mask: batch_size\n",
    "        #sum1: loss for all pics in the batch\n",
    "        #cal the loss percentage considering prediction from x_composed, x_a, x_b\n",
    "        \n",
    "        #loss with the penalty term\n",
    "        self.loss = self.loss_cls + 0.0005 * self.loss_rec + reg_term\n",
    "        \n",
    "        #adam optimizer\n",
    "        if lr_find:\n",
    "            self.train = tf.train.AdamOptimizer(learning_rate=self.lr).minimize(self.loss)\n",
    "        else:\n",
    "            self.train = tf.train.AdamOptimizer(\n",
    "                learning_rate=lr).minimize(\n",
    "                    self.loss, global_step=global_step)\n",
    "\n",
    "        #accuracy for single and overlapping training data\n",
    "        if is_multi_mnist:\n",
    "            self.accuracy = tf.reduce_mean(tf.cast(tf.nn.in_top_k(length_v,tf.argmax(tf.squeeze(y_a), 1),k=2),tf.float32))+\\\n",
    "                            tf.reduce_mean(tf.cast(tf.nn.in_top_k(length_v,tf.argmax(tf.squeeze(y_b), 1),k=2),tf.float32))\n",
    "            self.accuracy /= 2.0\n",
    "        else:\n",
    "            correct_prediction = tf.equal(\n",
    "                tf.argmax(y_composed[:, :, 0], 1), tf.argmax(length_v, 1))\n",
    "            self.accuracy = tf.reduce_mean(\n",
    "                tf.cast(correct_prediction, tf.float32))\n",
    "\n",
    "    def get_CapsNet(self, x, norm, on_train,caps, reuse=False):\n",
    "        \"\"\"\n",
    "        norm: to use batch-normalization or not\n",
    "        on_train: if it's for train or test\n",
    "        \"\"\"\n",
    "        #Two conv layers and a capsule layer\n",
    "        with tf.variable_scope('CapsNet', reuse=reuse):\n",
    "            wconv1 = tf.get_variable(\n",
    "                'wconv1', [9, 9, 1, 256],\n",
    "                initializer=tf.truncated_normal_initializer(stddev=0.02))\n",
    "            bconv1 = tf.get_variable(\n",
    "                'bconv1', [256],\n",
    "                initializer=tf.truncated_normal_initializer(stddev=0.02))\n",
    "            wconv2 = tf.get_variable(\n",
    "                'wconv2', [9, 9, 256, 8 * 32],\n",
    "                initializer=tf.truncated_normal_initializer(stddev=0.02))\n",
    "            bconv2 = tf.get_variable(\n",
    "                'bconv2', [8 * 32],\n",
    "                initializer=tf.truncated_normal_initializer(stddev=0.02))\n",
    "            wcap = tf.get_variable(\n",
    "                'wcap', [1, 6, 6, 32, 8, 10, caps],\n",
    "                initializer=tf.truncated_normal_initializer(stddev=0.02))\n",
    "            b = tf.get_variable(\n",
    "                'coupling_coefficient_logits', [1, 6, 6, 32, 1, 10, 1],\n",
    "                initializer=tf.constant_initializer(0.0))\n",
    "        \n",
    "        #use stop_gradient for debug\n",
    "        c = tf.stop_gradient(tf.nn.softmax(b, axis=5))\n",
    "        zza = c\n",
    "        #L2-regularization\n",
    "        tf.add_to_collection(tf.GraphKeys.WEIGHTS, wconv1)\n",
    "        tf.add_to_collection(tf.GraphKeys.WEIGHTS, wconv2)\n",
    "        tf.add_to_collection(tf.GraphKeys.WEIGHTS, wcap)\n",
    "        regularizer = tf.contrib.layers.l2_regularizer(scale=5.0/50000)\n",
    "        reg_term = tf.contrib.layers.apply_regularization(regularizer)\n",
    "\n",
    "        \n",
    "        if norm:\n",
    "            # BN for the first input\n",
    "            fc_mean, fc_var = tf.nn.moments(\n",
    "                x,\n",
    "                axes=[0, 1, 2],\n",
    "            )\n",
    "            scale = tf.Variable(tf.ones([1]))\n",
    "            shift = tf.Variable(tf.zeros([1]))\n",
    "            epsilon = 0.001\n",
    "            ema = tf.train.ExponentialMovingAverage(decay=0.5)\n",
    "\n",
    "            def mean_var_with_update():\n",
    "                \"\"\"\n",
    "                update mean and variance using moving average\n",
    "                \"\"\"\n",
    "                ema_apply_op = ema.apply([fc_mean, fc_var])\n",
    "                with tf.control_dependencies([ema_apply_op]):\n",
    "                    return tf.identity(fc_mean), tf.identity(fc_var)\n",
    "            \n",
    "            # if it's for test, then don't update mean and var, instead use the fc_mean and fc_var that already calculated\n",
    "            mean, var = tf.cond(\n",
    "                on_train, mean_var_with_update,\n",
    "                lambda: (ema.average(fc_mean), ema.average(fc_var)))\n",
    "            x = tf.nn.batch_normalization(x, mean, var, shift, scale, epsilon)\n",
    "\n",
    "        conv1 = tf.nn.conv2d(x, wconv1, [1, 1, 1, 1], padding='VALID') + bconv1\n",
    "\n",
    "        if norm:\n",
    "            # BN for the first conv layer\n",
    "            fc_mean, fc_var = tf.nn.moments(\n",
    "                conv1,\n",
    "                axes=[0, 1, 2],\n",
    "            )\n",
    "            scale = tf.Variable(tf.ones([1]))\n",
    "            shift = tf.Variable(tf.zeros([1]))\n",
    "            epsilon = 0.001\n",
    "            ema = tf.train.ExponentialMovingAverage(decay=0.5)\n",
    "\n",
    "            def mean_var_with_update():\n",
    "                ema_apply_op = ema.apply([fc_mean, fc_var])\n",
    "                with tf.control_dependencies([ema_apply_op]):\n",
    "                    return tf.identity(fc_mean), tf.identity(fc_var)\n",
    "\n",
    "            mean, var = tf.cond(\n",
    "                on_train, mean_var_with_update,\n",
    "                lambda: (ema.average(fc_mean), ema.average(fc_var)))\n",
    "            conv1 = tf.nn.batch_normalization(conv1, mean, var, shift, scale,\n",
    "                                              epsilon)\n",
    "\n",
    "        conv1 = tf.nn.relu(conv1)\n",
    "\n",
    "        s_primary = tf.nn.conv2d(\n",
    "            conv1, wconv2, [1, 2, 2, 1], padding='VALID') + bconv2\n",
    "\n",
    "        if norm:\n",
    "            # BN for the second conv layer\n",
    "            fc_mean, fc_var = tf.nn.moments(\n",
    "                s_primary,\n",
    "                axes=[0, 1, 2],\n",
    "            )\n",
    "            scale = tf.Variable(tf.ones([1]))\n",
    "            shift = tf.Variable(tf.zeros([1]))\n",
    "            epsilon = 0.001\n",
    "            ema = tf.train.ExponentialMovingAverage(decay=0.5)\n",
    "\n",
    "            def mean_var_with_update():\n",
    "                ema_apply_op = ema.apply([fc_mean, fc_var])\n",
    "                with tf.control_dependencies([ema_apply_op]):\n",
    "                    return tf.identity(fc_mean), tf.identity(fc_var)\n",
    "\n",
    "            mean, var = tf.cond(\n",
    "                on_train, mean_var_with_update,\n",
    "                lambda: (ema.average(fc_mean), ema.average(fc_var)))\n",
    "            s_primary = tf.nn.batch_normalization(s_primary, mean, var, shift,\n",
    "                                                  scale, epsilon)\n",
    "\n",
    "        s_primary = tf.reshape(s_primary, [-1, 6, 6, 32, 8, 1, 1])\n",
    "        #change form from batch_size*6*6*256 into -1*6*6*32*8*1*1. For input of capsule, it contains 6*6*32 vectors, each vector has 8 elements. We could consider it as reshape the 256 output layer into 8 groups, each group contains 32 layer. Put 8 groups parallel and each vector is the pix in same positions in 8 groups. \n",
    "        #the use of 1, 1 will make it easy to cal when we do u*wcap in the following step. (* is the multiply by elements in corresponding pos) (expand automatically, but we need to keep same dimensions first)\n",
    "\n",
    "        v_primary = self.squash(s_primary, axis=4)\n",
    "\n",
    "        #CAPSNET\n",
    "        u = v_primary #input of capsule\n",
    "        u_ = tf.reduce_sum(u * wcap, axis=[4], keepdims=True)\n",
    "        s = tf.reduce_sum(u_ * c, axis=[1, 2, 3], keepdims=True)\n",
    "\n",
    "        v = self.squash(s, axis=-1)\n",
    "        \n",
    "        if norm:\n",
    "            # BN for the capsule layer\n",
    "            fc_mean, fc_var = tf.nn.moments(\n",
    "                v,\n",
    "                axes=[0, 1, 2],\n",
    "            )\n",
    "            scale = tf.Variable(tf.ones([1]))\n",
    "            shift = tf.Variable(tf.zeros([1]))\n",
    "            epsilon = 0.001\n",
    "            ema = tf.train.ExponentialMovingAverage(decay=0.5)\n",
    "\n",
    "            def mean_var_with_update():\n",
    "                ema_apply_op = ema.apply([fc_mean, fc_var])\n",
    "                with tf.control_dependencies([ema_apply_op]):\n",
    "                    return tf.identity(fc_mean), tf.identity(fc_var)\n",
    "\n",
    "            mean, var = tf.cond(\n",
    "                on_train, mean_var_with_update,\n",
    "                lambda: (ema.average(fc_mean), ema.average(fc_var)))\n",
    "            v = tf.nn.batch_normalization(v, mean, var, shift, scale, epsilon)\n",
    "\n",
    "        for i in range(self.iterations - 1):\n",
    "            b += tf.reduce_sum(u_ * v, axis=-1, keepdims=True)\n",
    "            c = tf.nn.softmax(b, axis=5)\n",
    "            s = tf.reduce_sum(u_ * c, axis=[1, 2, 3], keepdims=True)\n",
    "            v = self.squash(s, axis=-1) #get the correct v\n",
    "        zza = v\n",
    "        v_digit = tf.squeeze(v)\n",
    "\n",
    "        return zza,v_digit,reg_term\n",
    "\n",
    "    def get_mlp_decoder(self, h,caps, reuse=False):\n",
    "        \"\"\"\n",
    "        restruction the input images: 160 -> 512 -> 1024 -> 784\n",
    "        \"\"\"\n",
    "        num_h=[10 * caps, 512, 1024, 784]\n",
    "        h = tf.reshape(h, [-1, 10 * caps])\n",
    "        with tf.variable_scope('decoder', reuse=reuse):\n",
    "            weights = []\n",
    "            for i in range(len(num_h) - 1):\n",
    "                w = tf.get_variable(\n",
    "                    'wfc%d' % i, [num_h[i], num_h[i + 1]],\n",
    "                    initializer=tf.truncated_normal_initializer(stddev=0.02))\n",
    "                b = tf.get_variable(\n",
    "                    'bfc%d' % i, [num_h[i + 1]],\n",
    "                    initializer=tf.truncated_normal_initializer(stddev=0.02))\n",
    "                weights.append((w, b))\n",
    "                if i < len(num_h) - 2:\n",
    "                    h = tf.nn.relu(tf.add(tf.matmul(h, w), b))\n",
    "                else:\n",
    "                    h = tf.nn.sigmoid(tf.add(tf.matmul(h, w), b))\n",
    "        x_rec = tf.reshape(h, [-1, 28, 28, 1])\n",
    "        return x_rec\n",
    "\n",
    "    def squash(self, s, axis=-1):\n",
    "        length_s = tf.reduce_sum(s**2.0, axis=axis, keepdims=True)**0.5\n",
    "        v = s * length_s / (1.0 + length_s**2.0) #shorten the length of each vector, make the length a little shorter than 1. Non-linear. To avoid the existence of 0 vector.\n",
    "        return v"
   ]
  },
  {
   "cell_type": "code",
   "execution_count": 4,
   "metadata": {
    "ExecuteTime": {
     "end_time": "2018-04-30T00:22:25.765326Z",
     "start_time": "2018-04-30T00:22:25.761980Z"
    }
   },
   "outputs": [],
   "source": [
    "batch_size = 64\n",
    "is_multi_mnist = True\n",
    "is_shift_ag = True\n",
    "irun = 0\n",
    "steps = 3000\n",
    "lr_find = False\n",
    "lr_list = []\n",
    "loss_list = []"
   ]
  },
  {
   "cell_type": "markdown",
   "metadata": {},
   "source": [
    "### We first try to find the best lr by increasing it by every iter and see at what iter the corresponding lr is doing the best"
   ]
  },
  {
   "cell_type": "code",
   "execution_count": null,
   "metadata": {
    "ExecuteTime": {
     "end_time": "2018-04-29T20:51:18.122080Z",
     "start_time": "2018-04-29T20:51:18.118902Z"
    }
   },
   "outputs": [],
   "source": [
    "lr_find = True\n",
    "lr = 1e-5"
   ]
  },
  {
   "cell_type": "code",
   "execution_count": null,
   "metadata": {
    "ExecuteTime": {
     "end_time": "2018-04-09T01:36:19.388102Z",
     "start_time": "2018-04-09T01:32:32.721926Z"
    },
    "scrolled": false
   },
   "outputs": [],
   "source": [
    "if is_multi_mnist:\n",
    "    train_iter = multimnist_train_iter(\n",
    "        iters=steps, batch_size=batch_size, is_shift_ag=True)\n",
    "    test_iter = multimnist_test_iter(\n",
    "        iters=steps, batch_size=batch_size, is_shift_ag=True)\n",
    "else:\n",
    "    train_iter = mnist_train_iter(\n",
    "        iters=steps, batch_size=batch_size, is_shift_ag=True)\n",
    "    test_iter = mnist_test_iter(\n",
    "        iters=steps, batch_size=batch_size, is_shift_ag=True)\n",
    "\n",
    "net = CapsNet(is_multi_mnist=is_multi_mnist, steps=steps, lr_find=lr_find)\n",
    "\n",
    "init = tf.global_variables_initializer()\n",
    "\n",
    "sess = tf.Session()\n",
    "\n",
    "sess.run(init)\n",
    "\n",
    "for X, Y in train_iter:\n",
    "    X_TEST, Y_TEST = next(test_iter)\n",
    "    \n",
    "    if lr_find:\n",
    "        LS, LS_REC, ACC, _ = sess.run([net.loss, net.loss_rec, net.accuracy, net.train], feed_dict={net.x: X, net.y: Y, net.on_train:True ,net.lr: lr})\n",
    "        lr_list.append(lr)\n",
    "        loss_list.append(LS)\n",
    "        if irun % 100 == 0:\n",
    "            print(irun, LS, ACC)\n",
    "        lr += np.linspace(1e-5,1e-2,steps)[2]-np.linspace(1e-5,1e-2,steps)[1]   \n",
    "        \n",
    "    else:    \n",
    "        LS, LS_REC, ACC, _ = sess.run(\n",
    "            [net.loss, net.loss_rec, net.accuracy, net.train],\n",
    "            feed_dict={\n",
    "                net.x: X,\n",
    "                net.y: Y,\n",
    "                net.on_train: True\n",
    "            })\n",
    "        ACC_TEST = sess.run(\n",
    "            net.accuracy,\n",
    "            feed_dict={\n",
    "                net.x: X_TEST,\n",
    "                net.y: Y_TEST,\n",
    "                net.on_train: False\n",
    "            })\n",
    "\n",
    "        if irun % 100 == 0:\n",
    "            print(irun, LS, ACC, ACC_TEST)\n",
    "\n",
    "    irun += 1"
   ]
  },
  {
   "cell_type": "code",
   "execution_count": null,
   "metadata": {
    "ExecuteTime": {
     "end_time": "2018-04-09T01:36:32.033332Z",
     "start_time": "2018-04-09T01:36:31.274615Z"
    }
   },
   "outputs": [],
   "source": [
    "plt.figure(figsize=(30,10))\n",
    "plt.plot(lr_list,loss_list);"
   ]
  },
  {
   "cell_type": "markdown",
   "metadata": {},
   "source": [
    "### From the figure above, we are going to let lr = 0.00075"
   ]
  },
  {
   "cell_type": "markdown",
   "metadata": {},
   "source": [
    "#### First do without batch normalization and lr decay"
   ]
  },
  {
   "cell_type": "code",
   "execution_count": 5,
   "metadata": {
    "ExecuteTime": {
     "end_time": "2018-04-30T00:22:29.279104Z",
     "start_time": "2018-04-30T00:22:29.276084Z"
    }
   },
   "outputs": [],
   "source": [
    "lr_find = False\n",
    "steps = 5000"
   ]
  },
  {
   "cell_type": "code",
   "execution_count": 6,
   "metadata": {
    "ExecuteTime": {
     "end_time": "2018-04-30T00:22:31.326308Z",
     "start_time": "2018-04-30T00:22:31.323375Z"
    }
   },
   "outputs": [],
   "source": [
    "import time\n",
    "from sklearn.metrics import roc_auc_score, f1_score"
   ]
  },
  {
   "cell_type": "code",
   "execution_count": 8,
   "metadata": {
    "ExecuteTime": {
     "end_time": "2018-04-29T21:33:10.598576Z",
     "start_time": "2018-04-29T21:25:43.258641Z"
    },
    "scrolled": false
   },
   "outputs": [
    {
     "name": "stdout",
     "output_type": "stream",
     "text": [
      "Extracting MNIST_data/train-images-idx3-ubyte.gz\n",
      "Extracting MNIST_data/train-labels-idx1-ubyte.gz\n",
      "Extracting MNIST_data/t10k-images-idx3-ubyte.gz\n",
      "Extracting MNIST_data/t10k-labels-idx1-ubyte.gz\n",
      "Extracting MNIST_data/train-images-idx3-ubyte.gz\n",
      "Extracting MNIST_data/train-labels-idx1-ubyte.gz\n",
      "Extracting MNIST_data/t10k-images-idx3-ubyte.gz\n",
      "Extracting MNIST_data/t10k-labels-idx1-ubyte.gz\n",
      "0 1.8008417 0.140625 0.203125 3.1737680435180664s per epoch\n",
      "100 0.66893667 0.640625 0.6484375 0.08689403533935547s per epoch\n",
      "200 0.6117285 0.6640625 0.671875 0.08809375762939453s per epoch\n",
      "300 0.52063453 0.7265625 0.65625 0.08643007278442383s per epoch\n",
      "400 0.5041703 0.75 0.78125 0.08652567863464355s per epoch\n",
      "500 0.44243172 0.7890625 0.828125 0.08845090866088867s per epoch\n",
      "600 0.4221682 0.796875 0.71875 0.08534741401672363s per epoch\n",
      "700 0.42349166 0.765625 0.7265625 0.08549618721008301s per epoch\n",
      "800 0.42599827 0.75 0.828125 0.0863039493560791s per epoch\n",
      "900 0.5328924 0.6953125 0.796875 0.08580136299133301s per epoch\n",
      "Model Saved!\n",
      "1000 0.4062559 0.8046875 0.8046875 0.08818531036376953s per epoch\n",
      "1100 0.41544312 0.7734375 0.828125 0.08614397048950195s per epoch\n",
      "1200 0.44821995 0.7578125 0.8125 0.10050725936889648s per epoch\n",
      "1300 0.46120152 0.78125 0.84375 0.08664178848266602s per epoch\n",
      "1400 0.48674977 0.7421875 0.828125 0.08523106575012207s per epoch\n",
      "1500 0.41719407 0.7890625 0.8203125 0.08595609664916992s per epoch\n",
      "1600 0.3518193 0.8515625 0.765625 0.0862114429473877s per epoch\n",
      "1700 0.40089715 0.796875 0.7578125 0.08619856834411621s per epoch\n",
      "1800 0.4063726 0.8203125 0.7890625 0.08624029159545898s per epoch\n",
      "1900 0.4372841 0.7421875 0.8203125 0.08590531349182129s per epoch\n",
      "Model Saved!\n",
      "2000 0.4177337 0.734375 0.7578125 0.0862588882446289s per epoch\n",
      "2100 0.42011127 0.7734375 0.765625 0.08484888076782227s per epoch\n",
      "2200 0.3897829 0.8046875 0.8125 0.08641648292541504s per epoch\n",
      "2300 0.35536283 0.8515625 0.90625 0.08617472648620605s per epoch\n",
      "2400 0.39557618 0.828125 0.8515625 0.08577132225036621s per epoch\n",
      "2500 0.40861306 0.7890625 0.796875 0.09641098976135254s per epoch\n",
      "2600 0.41367117 0.8125 0.8203125 0.09457731246948242s per epoch\n",
      "2700 0.43183345 0.78125 0.8671875 0.08594965934753418s per epoch\n",
      "2800 0.3657812 0.8203125 0.84375 0.08616828918457031s per epoch\n",
      "2900 0.41852614 0.7578125 0.7890625 0.08541655540466309s per epoch\n",
      "Model Saved!\n",
      "3000 0.3609035 0.796875 0.859375 0.0858609676361084s per epoch\n",
      "3100 0.40137073 0.78125 0.890625 0.08585095405578613s per epoch\n",
      "3200 0.3467924 0.828125 0.8203125 0.08559799194335938s per epoch\n",
      "3300 0.41589206 0.765625 0.8359375 0.08552312850952148s per epoch\n",
      "3400 0.35979712 0.8046875 0.84375 0.08591580390930176s per epoch\n",
      "3500 0.44092882 0.7578125 0.8359375 0.0894162654876709s per epoch\n",
      "3600 0.37368855 0.796875 0.828125 0.08480596542358398s per epoch\n",
      "3700 0.30614915 0.8671875 0.7890625 0.08513593673706055s per epoch\n",
      "3800 0.38031694 0.8046875 0.859375 0.08529257774353027s per epoch\n",
      "3900 0.36037213 0.796875 0.859375 0.08548974990844727s per epoch\n",
      "Model Saved!\n",
      "4000 0.3958273 0.8203125 0.84375 0.08544778823852539s per epoch\n",
      "4100 0.39720196 0.78125 0.8828125 0.08633136749267578s per epoch\n",
      "4200 0.39013857 0.796875 0.8359375 0.0862588882446289s per epoch\n",
      "4300 0.41735977 0.765625 0.8359375 0.08484506607055664s per epoch\n",
      "4400 0.4180937 0.8046875 0.7578125 0.08617830276489258s per epoch\n",
      "4500 0.31188297 0.859375 0.75 0.08445191383361816s per epoch\n",
      "4600 0.407908 0.7890625 0.7734375 0.08571171760559082s per epoch\n",
      "4700 0.3986204 0.78125 0.8125 0.08513855934143066s per epoch\n",
      "4800 0.31098276 0.875 0.8359375 0.0849461555480957s per epoch\n",
      "4900 0.38738358 0.8046875 0.859375 0.08683347702026367s per epoch\n",
      "Model Saved!\n"
     ]
    }
   ],
   "source": [
    "if is_multi_mnist:\n",
    "    train_iter = multimnist_train_iter(\n",
    "        iters=steps, batch_size=batch_size, is_shift_ag=True)\n",
    "    test_iter = multimnist_test_iter(\n",
    "        iters=steps, batch_size=batch_size, is_shift_ag=True)\n",
    "else:\n",
    "    train_iter = mnist_train_iter(\n",
    "        iters=steps, batch_size=batch_size, is_shift_ag=True)\n",
    "    test_iter = mnist_test_iter(\n",
    "        iters=steps, batch_size=batch_size, is_shift_ag=True)\n",
    "\n",
    "F1_OS=[]    \n",
    "    \n",
    "net = CapsNet(is_multi_mnist=is_multi_mnist, steps=steps, lr_find=lr_find,norm=False,caps=16,lr_decay=False)\n",
    "\n",
    "init = tf.global_variables_initializer()\n",
    "\n",
    "#For model saving\n",
    "saver = tf.train.Saver()\n",
    "\n",
    "sess = tf.Session()\n",
    "\n",
    "sess.run(init)\n",
    "\n",
    "for X, Y in train_iter:\n",
    "    a = time.time()\n",
    "    X_TEST, Y_TEST = next(test_iter)\n",
    "\n",
    "    if lr_find:\n",
    "        LS, LS_REC, ACC, _ = sess.run(\n",
    "            [net.loss, net.loss_rec, net.accuracy, net.train],\n",
    "            feed_dict={\n",
    "                net.x: X,\n",
    "                net.y: Y,\n",
    "                net.on_train: True,\n",
    "                net.lr: lr\n",
    "            })\n",
    "        lr_list.append(lr)\n",
    "        loss_list.append(LS)\n",
    "        if irun % 100 == 0:\n",
    "            print(irun, LS, ACC)\n",
    "        lr += np.linspace(1e-5, 1e-2, steps)[2] - np.linspace(\n",
    "            1e-5, 1e-2, steps)[1]\n",
    "\n",
    "    else:\n",
    "        LS, LS_REC, ACC, _, y_pred,y_a,zza,y_test = sess.run(\n",
    "            [net.loss, net.loss_rec, net.accuracy, net.train,net.y_pred,net.y_a,net.zza,net.y_test],\n",
    "            feed_dict={\n",
    "                net.x: X,\n",
    "                net.y: Y,\n",
    "                net.on_train: True\n",
    "            })\n",
    "        \n",
    "        sum1=[]\n",
    "        for i in range(y_test.shape[1]):\n",
    "            sum1.append(f1_score(y_test[:,i],np.argmax(y_pred,1),average='micro'))\n",
    "        \n",
    "        F1_OS.append(np.mean(sum1))\n",
    "        \n",
    "        ACC_TEST = sess.run(\n",
    "            net.accuracy,\n",
    "            feed_dict={\n",
    "                net.x: X_TEST,\n",
    "                net.y: Y_TEST,\n",
    "                net.on_train: False\n",
    "            })\n",
    "\n",
    "        b = time.time()\n",
    "        if irun % 100 == 0:\n",
    "            print(irun, LS, ACC, ACC_TEST, '{}s per epoch'.format(b - a))\n",
    "\n",
    "        if (irun + 1) % 1000 == 0:\n",
    "            saver.save(sess, \"./checkpoint_CapsNet/MyModel\")\n",
    "            print('Model Saved!')\n",
    "    \n",
    "    irun += 1"
   ]
  },
  {
   "cell_type": "code",
   "execution_count": 12,
   "metadata": {
    "ExecuteTime": {
     "end_time": "2018-04-29T22:28:25.726760Z",
     "start_time": "2018-04-29T22:28:25.466791Z"
    }
   },
   "outputs": [
    {
     "data": {
      "image/png": "[encoded data removed]",
      "text/plain": [
       "<Figure size 1440x720 with 1 Axes>"
      ]
     },
     "metadata": {},
     "output_type": "display_data"
    }
   ],
   "source": [
    "plt.figure(figsize=(20,10))\n",
    "plt.plot(range(5000),F1_OS,label='F1-score')\n",
    "plt.xlabel('epochs')\n",
    "plt.ylabel('F1-score')\n",
    "plt.title('F1-score at different epochs with no bn and decayed lr')\n",
    "plt.show()"
   ]
  },
  {
   "cell_type": "markdown",
   "metadata": {},
   "source": [
    "#### Try to increase batch size"
   ]
  },
  {
   "cell_type": "code",
   "execution_count": 7,
   "metadata": {
    "ExecuteTime": {
     "end_time": "2018-04-30T00:22:34.568781Z",
     "start_time": "2018-04-30T00:22:34.565962Z"
    }
   },
   "outputs": [],
   "source": [
    "batch_size = 64\n",
    "steps = 2000"
   ]
  },
  {
   "cell_type": "code",
   "execution_count": 8,
   "metadata": {
    "ExecuteTime": {
     "end_time": "2018-04-29T23:24:11.420177Z",
     "start_time": "2018-04-29T23:22:11.990919Z"
    }
   },
   "outputs": [
    {
     "name": "stdout",
     "output_type": "stream",
     "text": [
      "Extracting MNIST_data/train-images-idx3-ubyte.gz\n",
      "Extracting MNIST_data/train-labels-idx1-ubyte.gz\n",
      "Extracting MNIST_data/t10k-images-idx3-ubyte.gz\n",
      "Extracting MNIST_data/t10k-labels-idx1-ubyte.gz\n",
      "Extracting MNIST_data/train-images-idx3-ubyte.gz\n",
      "Extracting MNIST_data/train-labels-idx1-ubyte.gz\n",
      "Extracting MNIST_data/t10k-images-idx3-ubyte.gz\n",
      "Extracting MNIST_data/t10k-labels-idx1-ubyte.gz\n",
      "0 1.7944582 0.1640625 0.1875 2.056976795196533s per epoch\n",
      "100 0.7305134 0.5234375 0.5390625 0.05470442771911621s per epoch\n",
      "200 0.5594778 0.6953125 0.609375 0.054793596267700195s per epoch\n",
      "300 0.591578 0.6953125 0.734375 0.054578304290771484s per epoch\n",
      "400 0.48811045 0.703125 0.65625 0.05460834503173828s per epoch\n",
      "500 0.5407854 0.6796875 0.7109375 0.054372310638427734s per epoch\n",
      "600 0.5388646 0.703125 0.7890625 0.055014610290527344s per epoch\n",
      "700 0.47079086 0.7734375 0.7734375 0.05591011047363281s per epoch\n",
      "800 0.45285115 0.7734375 0.7890625 0.05498385429382324s per epoch\n",
      "900 0.47347012 0.7890625 0.828125 0.055245399475097656s per epoch\n",
      "Model Saved!\n",
      "1000 0.4132648 0.8203125 0.78125 0.0568690299987793s per epoch\n",
      "1100 0.3804079 0.8203125 0.8125 0.05530142784118652s per epoch\n",
      "1200 0.3702321 0.84375 0.765625 0.053915977478027344s per epoch\n",
      "1300 0.39272764 0.7578125 0.8046875 0.05466198921203613s per epoch\n",
      "1400 0.44227156 0.7578125 0.765625 0.055300235748291016s per epoch\n",
      "1500 0.43763965 0.7578125 0.8203125 0.055774688720703125s per epoch\n",
      "1600 0.33319122 0.875 0.796875 0.05476880073547363s per epoch\n",
      "1700 0.48364863 0.6796875 0.765625 0.0551607608795166s per epoch\n",
      "1800 0.43593085 0.78125 0.6953125 0.0545656681060791s per epoch\n",
      "1900 0.3569434 0.8515625 0.7890625 0.055023193359375s per epoch\n",
      "Model Saved!\n"
     ]
    }
   ],
   "source": [
    "if is_multi_mnist:\n",
    "    train_iter = multimnist_train_iter(\n",
    "        iters=steps, batch_size=batch_size, is_shift_ag=True)\n",
    "    test_iter = multimnist_test_iter(\n",
    "        iters=steps, batch_size=batch_size, is_shift_ag=True)\n",
    "else:\n",
    "    train_iter = mnist_train_iter(\n",
    "        iters=steps, batch_size=batch_size, is_shift_ag=True)\n",
    "    test_iter = mnist_test_iter(\n",
    "        iters=steps, batch_size=batch_size, is_shift_ag=True)\n",
    "\n",
    "F1_OS=[]    \n",
    "    \n",
    "net = CapsNet(is_multi_mnist=is_multi_mnist, steps=steps, lr_find=lr_find,norm=False,\n",
    "              caps=2,lr_decay=False)\n",
    "\n",
    "init = tf.global_variables_initializer()\n",
    "\n",
    "#For model saving\n",
    "saver = tf.train.Saver()\n",
    "\n",
    "sess = tf.Session()\n",
    "\n",
    "sess.run(init)\n",
    "\n",
    "for X, Y in train_iter:\n",
    "    a = time.time()\n",
    "    X_TEST, Y_TEST = next(test_iter)\n",
    "\n",
    "    if lr_find:\n",
    "        LS, LS_REC, ACC, _ = sess.run(\n",
    "            [net.loss, net.loss_rec, net.accuracy, net.train],\n",
    "            feed_dict={\n",
    "                net.x: X,\n",
    "                net.y: Y,\n",
    "                net.on_train: True,\n",
    "                net.lr: lr\n",
    "            })\n",
    "        lr_list.append(lr)\n",
    "        loss_list.append(LS)\n",
    "        if irun % 100 == 0:\n",
    "            print(irun, LS, ACC)\n",
    "        lr += np.linspace(1e-5, 1e-2, steps)[2] - np.linspace(\n",
    "            1e-5, 1e-2, steps)[1]\n",
    "\n",
    "    else:\n",
    "        LS, LS_REC, ACC, _, y_pred,y_a,zza,y_test = sess.run(\n",
    "            [net.loss, net.loss_rec, net.accuracy, net.train,net.y_pred,net.y_a,net.zza,net.y_test],\n",
    "            feed_dict={\n",
    "                net.x: X,\n",
    "                net.y: Y,\n",
    "                net.on_train: True\n",
    "            })\n",
    "        \n",
    "        sum1=[]\n",
    "        for i in range(y_test.shape[1]):\n",
    "            sum1.append(f1_score(y_test[:,i],np.argmax(y_pred,1),average='micro'))\n",
    "        \n",
    "        F1_OS.append(np.mean(sum1))\n",
    "        \n",
    "        ACC_TEST = sess.run(\n",
    "            net.accuracy,\n",
    "            feed_dict={\n",
    "                net.x: X_TEST,\n",
    "                net.y: Y_TEST,\n",
    "                net.on_train: False\n",
    "            })\n",
    "\n",
    "        b = time.time()\n",
    "        if irun % 100 == 0:\n",
    "            print(irun, LS, ACC, ACC_TEST, '{}s per epoch'.format(b - a))\n",
    "\n",
    "        if (irun + 1) % 1000 == 0:\n",
    "            saver.save(sess, \"./checkpoint_CapsNet/MyModel\")\n",
    "            print('Model Saved!')\n",
    "    \n",
    "    irun += 1"
   ]
  },
  {
   "cell_type": "code",
   "execution_count": null,
   "metadata": {},
   "outputs": [],
   "source": []
  },
  {
   "cell_type": "code",
   "execution_count": 8,
   "metadata": {
    "ExecuteTime": {
     "end_time": "2018-04-30T00:17:24.979300Z",
     "start_time": "2018-04-30T00:17:24.976565Z"
    }
   },
   "outputs": [],
   "source": [
    "steps = 3000"
   ]
  },
  {
   "cell_type": "code",
   "execution_count": 10,
   "metadata": {
    "ExecuteTime": {
     "end_time": "2018-04-29T23:39:22.155963Z",
     "start_time": "2018-04-29T23:34:24.443896Z"
    }
   },
   "outputs": [
    {
     "name": "stdout",
     "output_type": "stream",
     "text": [
      "Extracting MNIST_data/train-images-idx3-ubyte.gz\n",
      "Extracting MNIST_data/train-labels-idx1-ubyte.gz\n",
      "Extracting MNIST_data/t10k-images-idx3-ubyte.gz\n",
      "Extracting MNIST_data/t10k-labels-idx1-ubyte.gz\n",
      "Extracting MNIST_data/train-images-idx3-ubyte.gz\n",
      "Extracting MNIST_data/train-labels-idx1-ubyte.gz\n",
      "Extracting MNIST_data/t10k-images-idx3-ubyte.gz\n",
      "Extracting MNIST_data/t10k-labels-idx1-ubyte.gz\n",
      "0 1.6320199 0.2578125 0.2265625 2.3111863136291504s per epoch\n",
      "100 0.5915959 0.703125 0.6640625 0.09623527526855469s per epoch\n",
      "200 0.6609279 0.6328125 0.71875 0.09584975242614746s per epoch\n",
      "300 0.53547 0.765625 0.71875 0.09508299827575684s per epoch\n",
      "400 0.45106027 0.8046875 0.75 0.09437894821166992s per epoch\n",
      "500 0.42390823 0.78125 0.796875 0.09523200988769531s per epoch\n",
      "600 0.4181475 0.7890625 0.7734375 0.09652447700500488s per epoch\n",
      "700 0.37361673 0.84375 0.8203125 0.09629082679748535s per epoch\n",
      "800 0.39625478 0.796875 0.75 0.09645509719848633s per epoch\n",
      "900 0.35885978 0.8359375 0.8359375 0.09380793571472168s per epoch\n",
      "Model Saved!\n",
      "1000 0.36157808 0.8359375 0.7578125 0.09564828872680664s per epoch\n",
      "1100 0.397975 0.7578125 0.7734375 0.09523868560791016s per epoch\n",
      "1200 0.34570083 0.8203125 0.8515625 0.0936727523803711s per epoch\n",
      "1300 0.33201897 0.8515625 0.7265625 0.0940554141998291s per epoch\n",
      "1400 0.41213432 0.796875 0.8203125 0.09631180763244629s per epoch\n",
      "1500 0.3407309 0.8671875 0.7109375 0.09609222412109375s per epoch\n",
      "1600 0.37460926 0.8359375 0.71875 0.0958857536315918s per epoch\n",
      "1700 0.36547172 0.859375 0.75 0.09522080421447754s per epoch\n",
      "1800 0.36484876 0.8203125 0.828125 0.09510493278503418s per epoch\n",
      "1900 0.30481356 0.875 0.8671875 0.09496450424194336s per epoch\n",
      "Model Saved!\n",
      "2000 0.35683897 0.84375 0.8046875 0.0957040786743164s per epoch\n",
      "2100 0.30219704 0.8125 0.8984375 0.09461402893066406s per epoch\n",
      "2200 0.3293901 0.84375 0.8515625 0.09599852561950684s per epoch\n",
      "2300 0.3313188 0.8828125 0.8359375 0.0946969985961914s per epoch\n",
      "2400 0.29014271 0.890625 0.8359375 0.0948934555053711s per epoch\n",
      "2500 0.33724773 0.8828125 0.78125 0.10489869117736816s per epoch\n",
      "2600 0.26507124 0.90625 0.7578125 0.09404659271240234s per epoch\n",
      "2700 0.31491673 0.859375 0.7890625 0.09653902053833008s per epoch\n",
      "2800 0.28937688 0.890625 0.6953125 0.0950002670288086s per epoch\n",
      "2900 0.3217752 0.8515625 0.7265625 0.0971686840057373s per epoch\n",
      "Model Saved!\n"
     ]
    }
   ],
   "source": [
    "if is_multi_mnist:\n",
    "    train_iter = multimnist_train_iter(\n",
    "        iters=steps, batch_size=batch_size, is_shift_ag=True)\n",
    "    test_iter = multimnist_test_iter(\n",
    "        iters=steps, batch_size=batch_size, is_shift_ag=True)\n",
    "else:\n",
    "    train_iter = mnist_train_iter(\n",
    "        iters=steps, batch_size=batch_size, is_shift_ag=True)\n",
    "    test_iter = mnist_test_iter(\n",
    "        iters=steps, batch_size=batch_size, is_shift_ag=True)\n",
    "\n",
    "F1_OS=[]    \n",
    "    \n",
    "net = CapsNet(is_multi_mnist=is_multi_mnist, steps=steps, lr_find=lr_find,norm=True,\n",
    "              caps=16,lr_decay=False)\n",
    "\n",
    "init = tf.global_variables_initializer()\n",
    "\n",
    "#For model saving\n",
    "saver = tf.train.Saver()\n",
    "\n",
    "sess = tf.Session()\n",
    "\n",
    "sess.run(init)\n",
    "\n",
    "for X, Y in train_iter:\n",
    "    a = time.time()\n",
    "    X_TEST, Y_TEST = next(test_iter)\n",
    "\n",
    "    if lr_find:\n",
    "        LS, LS_REC, ACC, _ = sess.run(\n",
    "            [net.loss, net.loss_rec, net.accuracy, net.train],\n",
    "            feed_dict={\n",
    "                net.x: X,\n",
    "                net.y: Y,\n",
    "                net.on_train: True,\n",
    "                net.lr: lr\n",
    "            })\n",
    "        lr_list.append(lr)\n",
    "        loss_list.append(LS)\n",
    "        if irun % 100 == 0:\n",
    "            print(irun, LS, ACC)\n",
    "        lr += np.linspace(1e-5, 1e-2, steps)[2] - np.linspace(\n",
    "            1e-5, 1e-2, steps)[1]\n",
    "\n",
    "    else:\n",
    "        LS, LS_REC, ACC, _, y_pred,y_a,zza,y_test = sess.run(\n",
    "            [net.loss, net.loss_rec, net.accuracy, net.train,net.y_pred,net.y_a,net.zza,net.y_test],\n",
    "            feed_dict={\n",
    "                net.x: X,\n",
    "                net.y: Y,\n",
    "                net.on_train: True\n",
    "            })\n",
    "        \n",
    "        sum1=[]\n",
    "        for i in range(y_test.shape[1]):\n",
    "            sum1.append(f1_score(y_test[:,i],np.argmax(y_pred,1),average='micro'))\n",
    "        \n",
    "        F1_OS.append(np.mean(sum1))\n",
    "        \n",
    "        ACC_TEST = sess.run(\n",
    "            net.accuracy,\n",
    "            feed_dict={\n",
    "                net.x: X_TEST,\n",
    "                net.y: Y_TEST,\n",
    "                net.on_train: False\n",
    "            })\n",
    "\n",
    "        b = time.time()\n",
    "        if irun % 100 == 0:\n",
    "            print(irun, LS, ACC, ACC_TEST, '{}s per epoch'.format(b - a))\n",
    "\n",
    "        if (irun + 1) % 1000 == 0:\n",
    "            saver.save(sess, \"./checkpoint_CapsNet/MyModel\")\n",
    "            print('Model Saved!')\n",
    "    \n",
    "    irun += 1"
   ]
  },
  {
   "cell_type": "code",
   "execution_count": 12,
   "metadata": {
    "ExecuteTime": {
     "end_time": "2018-04-29T23:40:08.347693Z",
     "start_time": "2018-04-29T23:40:08.082905Z"
    }
   },
   "outputs": [
    {
     "data": {
      "image/png": "[encoded data removed]",
      "text/plain": [
       "<Figure size 1440x720 with 1 Axes>"
      ]
     },
     "metadata": {},
     "output_type": "display_data"
    }
   ],
   "source": [
    "plt.figure(figsize=(20,10))\n",
    "plt.plot(range(3000),F1_OS,label='F1-score')\n",
    "plt.xlabel('epochs')\n",
    "plt.ylabel('F1-score')\n",
    "plt.title('F1-score at different epochs with no decayed lr')\n",
    "plt.show()"
   ]
  },
  {
   "cell_type": "code",
   "execution_count": 8,
   "metadata": {
    "ExecuteTime": {
     "end_time": "2018-04-30T00:22:38.308773Z",
     "start_time": "2018-04-30T00:22:38.305703Z"
    }
   },
   "outputs": [],
   "source": [
    "steps = 5000"
   ]
  },
  {
   "cell_type": "code",
   "execution_count": 9,
   "metadata": {
    "ExecuteTime": {
     "end_time": "2018-04-30T00:24:18.540499Z",
     "start_time": "2018-04-30T00:22:39.425214Z"
    },
    "scrolled": true
   },
   "outputs": [
    {
     "name": "stdout",
     "output_type": "stream",
     "text": [
      "Extracting MNIST_data/train-images-idx3-ubyte.gz\n",
      "Extracting MNIST_data/train-labels-idx1-ubyte.gz\n",
      "Extracting MNIST_data/t10k-images-idx3-ubyte.gz\n",
      "Extracting MNIST_data/t10k-labels-idx1-ubyte.gz\n",
      "Extracting MNIST_data/train-images-idx3-ubyte.gz\n",
      "Extracting MNIST_data/train-labels-idx1-ubyte.gz\n",
      "Extracting MNIST_data/t10k-images-idx3-ubyte.gz\n",
      "Extracting MNIST_data/t10k-labels-idx1-ubyte.gz\n",
      "0 1.6358778 0.1484375 0.34375 1.934889316558838s per epoch\n",
      "100 0.61636716 0.65625 0.65625 0.09218931198120117s per epoch\n",
      "200 0.5844255 0.7109375 0.640625 0.09294605255126953s per epoch\n",
      "300 0.5553612 0.703125 0.71875 0.09233736991882324s per epoch\n",
      "400 0.45255107 0.796875 0.796875 0.0918416976928711s per epoch\n",
      "500 0.5158212 0.7265625 0.6875 0.09171199798583984s per epoch\n",
      "600 0.38725314 0.8515625 0.65625 0.09149765968322754s per epoch\n",
      "700 0.531997 0.734375 0.8125 0.10146331787109375s per epoch\n",
      "800 0.41040018 0.8203125 0.7421875 0.09332132339477539s per epoch\n",
      "900 0.4440838 0.7734375 0.8359375 0.0922238826751709s per epoch\n"
     ]
    },
    {
     "ename": "NameError",
     "evalue": "name 'writer' is not defined",
     "output_type": "error",
     "traceback": [
      "\u001b[0;31m---------------------------------------------------------------------------\u001b[0m",
      "\u001b[0;31mNameError\u001b[0m                                 Traceback (most recent call last)",
      "\u001b[0;32m<ipython-input-9-7166c6277617>\u001b[0m in \u001b[0;36m<module>\u001b[0;34m()\u001b[0m\n\u001b[1;32m     74\u001b[0m \u001b[0;34m\u001b[0m\u001b[0m\n\u001b[1;32m     75\u001b[0m         \u001b[0;32mif\u001b[0m \u001b[0;34m(\u001b[0m\u001b[0mirun\u001b[0m \u001b[0;34m+\u001b[0m \u001b[0;36m1\u001b[0m\u001b[0;34m)\u001b[0m \u001b[0;34m%\u001b[0m \u001b[0;36m1000\u001b[0m \u001b[0;34m==\u001b[0m \u001b[0;36m0\u001b[0m\u001b[0;34m:\u001b[0m\u001b[0;34m\u001b[0m\u001b[0m\n\u001b[0;32m---> 76\u001b[0;31m             \u001b[0mwriter\u001b[0m\u001b[0;34m.\u001b[0m\u001b[0madd_graph\u001b[0m\u001b[0;34m(\u001b[0m\u001b[0msess\u001b[0m\u001b[0;34m.\u001b[0m\u001b[0mgraph\u001b[0m\u001b[0;34m)\u001b[0m\u001b[0;34m\u001b[0m\u001b[0m\n\u001b[0m\u001b[1;32m     77\u001b[0m             \u001b[0msaved_path\u001b[0m \u001b[0;34m=\u001b[0m \u001b[0msaver\u001b[0m\u001b[0;34m.\u001b[0m\u001b[0msave\u001b[0m\u001b[0;34m(\u001b[0m\u001b[0msess\u001b[0m\u001b[0;34m,\u001b[0m\u001b[0;34m\"./checkpoint_CapsNet/MyModel\"\u001b[0m\u001b[0;34m)\u001b[0m\u001b[0;34m\u001b[0m\u001b[0m\n\u001b[1;32m     78\u001b[0m             \u001b[0mprint\u001b[0m\u001b[0;34m(\u001b[0m\u001b[0;34m'Model Saved!'\u001b[0m\u001b[0;34m)\u001b[0m\u001b[0;34m\u001b[0m\u001b[0m\n",
      "\u001b[0;31mNameError\u001b[0m: name 'writer' is not defined"
     ]
    }
   ],
   "source": [
    "if is_multi_mnist:\n",
    "    train_iter = multimnist_train_iter(\n",
    "        iters=steps, batch_size=batch_size, is_shift_ag=True)\n",
    "    test_iter = multimnist_test_iter(\n",
    "        iters=steps, batch_size=batch_size, is_shift_ag=True)\n",
    "else:\n",
    "    train_iter = mnist_train_iter(\n",
    "        iters=steps, batch_size=batch_size, is_shift_ag=True)\n",
    "    test_iter = mnist_test_iter(\n",
    "        iters=steps, batch_size=batch_size, is_shift_ag=True)\n",
    "\n",
    "F1_OS=[]    \n",
    "    \n",
    "net = CapsNet(is_multi_mnist=is_multi_mnist, steps=steps, lr_find=lr_find,norm=True,\n",
    "              caps=16,lr_decay=True)\n",
    "\n",
    "init = tf.global_variables_initializer()\n",
    "\n",
    "#For model saving\n",
    "saver = tf.train.Saver()\n",
    "\n",
    "sess = tf.Session()\n",
    "\n",
    "sess.run(init)\n",
    "\n",
    "for X, Y in train_iter:\n",
    "    a = time.time()\n",
    "    X_TEST, Y_TEST = next(test_iter)\n",
    "\n",
    "    if lr_find:\n",
    "        LS, LS_REC, ACC, _ = sess.run(\n",
    "            [net.loss, net.loss_rec, net.accuracy, net.train],\n",
    "            feed_dict={\n",
    "                net.x: X,\n",
    "                net.y: Y,\n",
    "                net.on_train: True,\n",
    "                net.lr: lr\n",
    "            })\n",
    "        lr_list.append(lr)\n",
    "        loss_list.append(LS)\n",
    "        if irun % 100 == 0:\n",
    "            print(irun, LS, ACC)\n",
    "        lr += np.linspace(1e-5, 1e-2, steps)[2] - np.linspace(\n",
    "            1e-5, 1e-2, steps)[1]\n",
    "\n",
    "    else:\n",
    "        LS, LS_REC, ACC, _, y_pred,y_a,zza,y_test = sess.run(\n",
    "            [net.loss, net.loss_rec, net.accuracy, net.train,net.y_pred,net.y_a,net.zza,net.y_test],\n",
    "            feed_dict={\n",
    "                net.x: X,\n",
    "                net.y: Y,\n",
    "                net.on_train: True\n",
    "            })\n",
    "        \n",
    "        sum1=[]\n",
    "        for i in range(y_test.shape[1]):\n",
    "            sum1.append(f1_score(y_test[:,i],np.argmax(y_pred,1),average='micro'))\n",
    "        \n",
    "        F1_OS.append(np.mean(sum1))\n",
    "        \n",
    "        ACC_TEST = sess.run(\n",
    "            net.accuracy,\n",
    "            feed_dict={\n",
    "                net.x: X_TEST,\n",
    "                net.y: Y_TEST,\n",
    "                net.on_train: False\n",
    "            })\n",
    "\n",
    "        b = time.time()\n",
    "        if irun % 100 == 0:\n",
    "            print(irun, LS, ACC, ACC_TEST, '{}s per epoch'.format(b - a))\n",
    "\n",
    "        if (irun + 1) % 1000 == 0:\n",
    "            writer.add_graph(sess.graph)  \n",
    "            saver.save(sess, \"./checkpoint_CapsNet/MyModel\")\n",
    "            print('Model Saved!')\n",
    "    \n",
    "    irun += 1"
   ]
  },
  {
   "cell_type": "code",
   "execution_count": 14,
   "metadata": {
    "ExecuteTime": {
     "end_time": "2018-04-30T02:01:24.467588Z",
     "start_time": "2018-04-30T02:01:24.463364Z"
    }
   },
   "outputs": [
    {
     "data": {
      "text/plain": [
       "<tf.Tensor 'Placeholder_2:0' shape=<unknown> dtype=bool>"
      ]
     },
     "execution_count": 14,
     "metadata": {},
     "output_type": "execute_result"
    }
   ],
   "source": []
  },
  {
   "cell_type": "code",
   "execution_count": 12,
   "metadata": {
    "ExecuteTime": {
     "end_time": "2018-04-30T01:46:35.018710Z",
     "start_time": "2018-04-30T01:46:35.014719Z"
    }
   },
   "outputs": [
    {
     "data": {
      "text/plain": [
       "<tf.Tensor 'Placeholder:0' shape=(?, 28, 28, 3) dtype=float32>"
      ]
     },
     "execution_count": 12,
     "metadata": {},
     "output_type": "execute_result"
    }
   ],
   "source": [
    "net.x"
   ]
  },
  {
   "cell_type": "code",
   "execution_count": 1,
   "metadata": {
    "ExecuteTime": {
     "end_time": "2018-04-30T03:35:10.819143Z",
     "start_time": "2018-04-30T03:35:10.757586Z"
    }
   },
   "outputs": [
    {
     "ename": "NameError",
     "evalue": "name 'plt' is not defined",
     "output_type": "error",
     "traceback": [
      "\u001b[0;31m---------------------------------------------------------------------------\u001b[0m",
      "\u001b[0;31mNameError\u001b[0m                                 Traceback (most recent call last)",
      "\u001b[0;32m<ipython-input-1-cc8faec43820>\u001b[0m in \u001b[0;36m<module>\u001b[0;34m()\u001b[0m\n\u001b[0;32m----> 1\u001b[0;31m \u001b[0mplt\u001b[0m\u001b[0;34m.\u001b[0m\u001b[0mfigure\u001b[0m\u001b[0;34m(\u001b[0m\u001b[0mfigsize\u001b[0m\u001b[0;34m=\u001b[0m\u001b[0;34m(\u001b[0m\u001b[0;36m20\u001b[0m\u001b[0;34m,\u001b[0m\u001b[0;36m10\u001b[0m\u001b[0;34m)\u001b[0m\u001b[0;34m)\u001b[0m\u001b[0;34m\u001b[0m\u001b[0m\n\u001b[0m\u001b[1;32m      2\u001b[0m \u001b[0mplt\u001b[0m\u001b[0;34m.\u001b[0m\u001b[0mplot\u001b[0m\u001b[0;34m(\u001b[0m\u001b[0mrange\u001b[0m\u001b[0;34m(\u001b[0m\u001b[0;36m5000\u001b[0m\u001b[0;34m)\u001b[0m\u001b[0;34m,\u001b[0m\u001b[0mF1_OS\u001b[0m\u001b[0;34m,\u001b[0m\u001b[0mlabel\u001b[0m\u001b[0;34m=\u001b[0m\u001b[0;34m'F1-score'\u001b[0m\u001b[0;34m)\u001b[0m\u001b[0;34m\u001b[0m\u001b[0m\n\u001b[1;32m      3\u001b[0m \u001b[0mplt\u001b[0m\u001b[0;34m.\u001b[0m\u001b[0mxlabel\u001b[0m\u001b[0;34m(\u001b[0m\u001b[0;34m'epochs'\u001b[0m\u001b[0;34m)\u001b[0m\u001b[0;34m\u001b[0m\u001b[0m\n\u001b[1;32m      4\u001b[0m \u001b[0mplt\u001b[0m\u001b[0;34m.\u001b[0m\u001b[0mylabel\u001b[0m\u001b[0;34m(\u001b[0m\u001b[0;34m'F1-score'\u001b[0m\u001b[0;34m)\u001b[0m\u001b[0;34m\u001b[0m\u001b[0m\n\u001b[1;32m      5\u001b[0m \u001b[0mplt\u001b[0m\u001b[0;34m.\u001b[0m\u001b[0mtitle\u001b[0m\u001b[0;34m(\u001b[0m\u001b[0;34m'F1-score at different epochs with decayed lr and batch normalization'\u001b[0m\u001b[0;34m)\u001b[0m\u001b[0;34m\u001b[0m\u001b[0m\n",
      "\u001b[0;31mNameError\u001b[0m: name 'plt' is not defined"
     ]
    }
   ],
   "source": [
    "plt.figure(figsize=(20,10))\n",
    "plt.plot(range(5000),F1_OS,label='F1-score')\n",
    "plt.xlabel('epochs')\n",
    "plt.ylabel('F1-score')\n",
    "plt.title('F1-score at different epochs with decayed lr and batch normalization')\n",
    "plt.show()"
   ]
  }
 ],
 "metadata": {
  "kernelspec": {
   "display_name": "Python 3",
   "language": "python",
   "name": "python3"
  },
  "language_info": {
   "codemirror_mode": {
    "name": "ipython",
    "version": 3
   },
   "file_extension": ".py",
   "mimetype": "text/x-python",
   "name": "python",
   "nbconvert_exporter": "python",
   "pygments_lexer": "ipython3",
   "version": "3.6.5"
  },
  "latex_envs": {
   "LaTeX_envs_menu_present": true,
   "autoclose": false,
   "autocomplete": true,
   "bibliofile": "biblio.bib",
   "cite_by": "apalike",
   "current_citInitial": 1,
   "eqLabelWithNumbers": true,
   "eqNumInitial": 1,
   "hotkeys": {
    "equation": "Ctrl-E",
    "itemize": "Ctrl-I"
   },
   "labels_anchors": false,
   "latex_user_defs": false,
   "report_style_numbering": false,
   "user_envs_cfg": false
  },
  "toc": {
   "nav_menu": {},
   "number_sections": true,
   "sideBar": true,
   "skip_h1_title": false,
   "toc_cell": false,
   "toc_position": {},
   "toc_section_display": "block",
   "toc_window_display": false
  },
  "varInspector": {
   "cols": {
    "lenName": 16,
    "lenType": 16,
    "lenVar": 40
   },
   "kernels_config": {
    "python": {
     "delete_cmd_postfix": "",
     "delete_cmd_prefix": "del ",
     "library": "var_list.py",
     "varRefreshCmd": "print(var_dic_list())"
    },
    "r": {
     "delete_cmd_postfix": ") ",
     "delete_cmd_prefix": "rm(",
     "library": "var_list.r",
     "varRefreshCmd": "cat(var_dic_list()) "
    }
   },
   "types_to_exclude": [
    "module",
    "function",
    "builtin_function_or_method",
    "instance",
    "_Feature"
   ],
   "window_display": true
  }
 },
 "nbformat": 4,
 "nbformat_minor": 2
}
